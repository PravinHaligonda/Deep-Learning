{
 "cells": [
  {
   "cell_type": "code",
   "execution_count": 1,
   "id": "initial_id",
   "metadata": {
    "ExecuteTime": {
     "end_time": "2024-11-20T14:05:46.388047Z",
     "start_time": "2024-11-20T14:05:37.852018Z"
    }
   },
   "outputs": [],
   "source": [
    "import torch\n",
    "import sklearn\n",
    "import matplotlib.pyplot as plt\n",
    "import sympy\n",
    "import scipy"
   ]
  },
  {
   "cell_type": "markdown",
   "id": "acf0a8078c723180",
   "metadata": {},
   "source": [
    "### Norms\n",
    "using Norm we can measure the size of a vector"
   ]
  },
  {
   "cell_type": "markdown",
   "id": "f5ce0564431e58e6",
   "metadata": {},
   "source": [
    "#### L1 Norm\n",
    "Sum of absolute values of the vector elements"
   ]
  },
  {
   "cell_type": "code",
   "execution_count": 2,
   "id": "c6220a02f745d084",
   "metadata": {
    "ExecuteTime": {
     "end_time": "2024-11-20T14:58:45.353834Z",
     "start_time": "2024-11-20T14:58:45.342319Z"
    }
   },
   "outputs": [
    {
     "data": {
      "text/plain": [
       "tensor(10.)"
      ]
     },
     "execution_count": 2,
     "metadata": {},
     "output_type": "execute_result"
    }
   ],
   "source": [
    "# simple, using torch\n",
    "torch.norm(torch.arange(1, 5, dtype=torch.float32), p=1)"
   ]
  },
  {
   "cell_type": "code",
   "execution_count": 3,
   "id": "e0a2e995b32cf225",
   "metadata": {
    "ExecuteTime": {
     "end_time": "2024-11-20T15:07:57.988904Z",
     "start_time": "2024-11-20T15:07:57.980560Z"
    }
   },
   "outputs": [],
   "source": [
    "def l_1_norm(vec):\n",
    "    return torch.sum(torch.absolute(vec))"
   ]
  },
  {
   "cell_type": "code",
   "execution_count": 4,
   "id": "552bdca63770a94b",
   "metadata": {
    "ExecuteTime": {
     "end_time": "2024-11-20T15:08:42.624569Z",
     "start_time": "2024-11-20T15:08:42.603182Z"
    }
   },
   "outputs": [
    {
     "data": {
      "text/plain": [
       "tensor(10)"
      ]
     },
     "execution_count": 4,
     "metadata": {},
     "output_type": "execute_result"
    }
   ],
   "source": [
    "l_1_norm(torch.arange(1, 5))"
   ]
  },
  {
   "cell_type": "markdown",
   "id": "e5997a67a7085c39",
   "metadata": {},
   "source": [
    "#### L2 Norm\n",
    "L2 norm, with p = 2, is known as the Euclidean norm"
   ]
  },
  {
   "cell_type": "code",
   "execution_count": 5,
   "id": "dde314067e54abe1",
   "metadata": {
    "ExecuteTime": {
     "end_time": "2024-11-20T15:12:57.324916Z",
     "start_time": "2024-11-20T15:12:57.315393Z"
    }
   },
   "outputs": [],
   "source": [
    "def l_p_norm(vec, p=2):\n",
    "    return torch.pow(torch.pow(vec, p).sum(), 1/p)"
   ]
  },
  {
   "cell_type": "code",
   "execution_count": 6,
   "id": "dbf1bf5248d84133",
   "metadata": {
    "ExecuteTime": {
     "end_time": "2024-11-20T15:13:00.104199Z",
     "start_time": "2024-11-20T15:13:00.092740Z"
    }
   },
   "outputs": [
    {
     "data": {
      "text/plain": [
       "tensor(5.4772)"
      ]
     },
     "execution_count": 6,
     "metadata": {},
     "output_type": "execute_result"
    }
   ],
   "source": [
    "vec = torch.tensor([1, 2, 3, 4])\n",
    "l_p_norm(vec)"
   ]
  },
  {
   "cell_type": "code",
   "execution_count": 7,
   "id": "df7fccb2ad69bd9d",
   "metadata": {
    "ExecuteTime": {
     "end_time": "2024-11-20T15:13:04.447150Z",
     "start_time": "2024-11-20T15:13:04.432371Z"
    }
   },
   "outputs": [
    {
     "data": {
      "text/plain": [
       "tensor(5.4772)"
      ]
     },
     "execution_count": 7,
     "metadata": {},
     "output_type": "execute_result"
    }
   ],
   "source": [
    "torch.norm(vec.float(), p=2)"
   ]
  },
  {
   "cell_type": "markdown",
   "id": "ae97c5964c9f3f4d",
   "metadata": {},
   "source": [
    "#### Max Norm\n",
    "absolute value of the element with the largest magnitude in the vector"
   ]
  },
  {
   "cell_type": "code",
   "execution_count": 8,
   "id": "417eb84b08f060d1",
   "metadata": {
    "ExecuteTime": {
     "end_time": "2024-11-20T15:20:38.256686Z",
     "start_time": "2024-11-20T15:20:38.250344Z"
    }
   },
   "outputs": [],
   "source": [
    "def max_norm(vec):\n",
    "    return torch.max(torch.absolute(vec))"
   ]
  },
  {
   "cell_type": "code",
   "execution_count": 9,
   "id": "5b7247a8d6b08d4f",
   "metadata": {
    "ExecuteTime": {
     "end_time": "2024-11-20T15:20:40.737947Z",
     "start_time": "2024-11-20T15:20:40.725583Z"
    }
   },
   "outputs": [
    {
     "data": {
      "text/plain": [
       "tensor(4)"
      ]
     },
     "execution_count": 9,
     "metadata": {},
     "output_type": "execute_result"
    }
   ],
   "source": [
    "max_norm(torch.tensor([1, 2, 3, -4]))"
   ]
  },
  {
   "cell_type": "code",
   "execution_count": 10,
   "id": "f8f56862c984b4cf",
   "metadata": {
    "ExecuteTime": {
     "end_time": "2024-11-20T15:23:28.498907Z",
     "start_time": "2024-11-20T15:23:28.491056Z"
    }
   },
   "outputs": [],
   "source": [
    "def frobenius_norm(mat):\n",
    "    return l_p_norm(mat, p=2)"
   ]
  },
  {
   "cell_type": "code",
   "execution_count": 11,
   "id": "7bcb684d5a9b6607",
   "metadata": {
    "ExecuteTime": {
     "end_time": "2024-11-20T15:24:44.071551Z",
     "start_time": "2024-11-20T15:24:44.065636Z"
    }
   },
   "outputs": [],
   "source": [
    "c = torch.arange(1, 7).view(2, 3)"
   ]
  },
  {
   "cell_type": "code",
   "execution_count": 12,
   "id": "6e2d77720f2a095b",
   "metadata": {
    "ExecuteTime": {
     "end_time": "2024-11-20T15:25:08.045250Z",
     "start_time": "2024-11-20T15:25:08.033060Z"
    }
   },
   "outputs": [
    {
     "data": {
      "text/plain": [
       "tensor(9.5394)"
      ]
     },
     "execution_count": 12,
     "metadata": {},
     "output_type": "execute_result"
    }
   ],
   "source": [
    "frobenius_norm(c)"
   ]
  },
  {
   "cell_type": "code",
   "execution_count": 13,
   "id": "3b1a3a7f0efbc055",
   "metadata": {
    "ExecuteTime": {
     "end_time": "2024-11-20T15:26:04.118302Z",
     "start_time": "2024-11-20T15:26:04.103947Z"
    }
   },
   "outputs": [
    {
     "data": {
      "text/plain": [
       "tensor(9.5394)"
      ]
     },
     "execution_count": 13,
     "metadata": {},
     "output_type": "execute_result"
    }
   ],
   "source": [
    "torch.norm(c.float(), p='fro')"
   ]
  },
  {
   "cell_type": "code",
   "execution_count": 19,
   "id": "530c841295165987",
   "metadata": {},
   "outputs": [],
   "source": [
    "# used to measure how similar two vectors are in an inner product space.\n",
    "def cos_similarity(x, y):\n",
    "    return torch.dot(x, y)/(l_p_norm(x) * l_p_norm(y, 2))"
   ]
  },
  {
   "cell_type": "code",
   "execution_count": 20,
   "id": "c2fdde40",
   "metadata": {},
   "outputs": [
    {
     "data": {
      "text/plain": [
       "tensor(1.0000)"
      ]
     },
     "execution_count": 20,
     "metadata": {},
     "output_type": "execute_result"
    }
   ],
   "source": [
    "x = torch.tensor([1,2,3,-4])\n",
    "y = torch.tensor([1,2,3,-4])\n",
    "cos_similarity(x, y)"
   ]
  },
  {
   "cell_type": "code",
   "execution_count": 21,
   "id": "21dd3fdf",
   "metadata": {},
   "outputs": [
    {
     "data": {
      "text/plain": [
       "array([[1.]])"
      ]
     },
     "execution_count": 21,
     "metadata": {},
     "output_type": "execute_result"
    }
   ],
   "source": [
    "from sklearn.metrics.pairwise import cosine_similarity\n",
    "\n",
    "cosine_similarity(torch.tensor([1,2,3,-4]).reshape(1, -1), torch.tensor([1,2,3,-4]).reshape(1, -1))"
   ]
  },
  {
   "cell_type": "markdown",
   "id": "81a7674f-673a-4e75-99e6-1b37ddf7faa3",
   "metadata": {},
   "source": [
    "#### Eigendecomposition"
   ]
  },
  {
   "cell_type": "code",
   "execution_count": 31,
   "id": "8675fbc1-1101-40b5-a957-b49f46ad4d0a",
   "metadata": {},
   "outputs": [],
   "source": [
    "import matplotlib.pyplot as plt\n",
    "\n",
    "def plot_2d_vecs(vecs, title=None, colors=None, scale_=20):\n",
    "    origin = [0, 0], [0, 0] \n",
    "\n",
    "    plt.quiver(*origin, *[vecs[:,i] for i in range(vecs.shape[1])], color=colors, scale=scale_)\n",
    "    plt.title(title)\n",
    "    plt.xlim(-10, 10)\n",
    "    plt.ylim(-10, 10)\n",
    "    plt.show()"
   ]
  },
  {
   "cell_type": "code",
   "execution_count": 32,
   "id": "f54c674d-0fb8-4ed6-a36a-49a3c6d99e6f",
   "metadata": {},
   "outputs": [
    {
     "data": {
      "image/png": "[encoded data removed]",
      "text/plain": [
       "<Figure size 640x480 with 1 Axes>"
      ]
     },
     "metadata": {},
     "output_type": "display_data"
    }
   ],
   "source": [
    "stacked_vecs = np.array([[1,1],[-2,2]])\n",
    "\n",
    "plot_2d_vecs(stacked_vecs, colors=['r','g'])"
   ]
  },
  {
   "cell_type": "code",
   "execution_count": 33,
   "id": "cf6fdd70-2958-4fcf-9d7c-4d6102b0fd9c",
   "metadata": {},
   "outputs": [
    {
     "data": {
      "text/plain": [
       "array([[1.43615542, 2.90885312],\n",
       "       [4.55904535, 0.47624322]])"
      ]
     },
     "execution_count": 33,
     "metadata": {},
     "output_type": "execute_result"
    }
   ],
   "source": [
    "A = (np.random.rand(2, 2)*5)\n",
    "A"
   ]
  },
  {
   "cell_type": "code",
   "execution_count": 34,
   "id": "e5331744-0c1f-4d38-9d58-583e9395ba91",
   "metadata": {},
   "outputs": [],
   "source": [
    "x = [2,3]"
   ]
  },
  {
   "cell_type": "code",
   "execution_count": 35,
   "id": "5e1070c9-31ee-4241-b764-fa262fa40259",
   "metadata": {},
   "outputs": [
    {
     "data": {
      "text/plain": [
       "array([11.5988702 , 10.54682037])"
      ]
     },
     "execution_count": 35,
     "metadata": {},
     "output_type": "execute_result"
    }
   ],
   "source": [
    "A@x"
   ]
  },
  {
   "cell_type": "code",
   "execution_count": 36,
   "id": "ab1c6223-5014-4ec4-baf7-fdbcc42104ed",
   "metadata": {},
   "outputs": [
    {
     "data": {
      "text/plain": [
       "array([[11.5988702 ,  2.        ],\n",
       "       [10.54682037,  3.        ]])"
      ]
     },
     "execution_count": 36,
     "metadata": {},
     "output_type": "execute_result"
    }
   ],
   "source": [
    "np.stack([A@x, x]).T"
   ]
  },
  {
   "cell_type": "code",
   "execution_count": 37,
   "id": "b5ecd481-097d-46d5-9bab-d8bad37148f9",
   "metadata": {},
   "outputs": [
    {
     "data": {
      "image/png": "[encoded data removed]",
      "text/plain": [
       "<Figure size 640x480 with 1 Axes>"
      ]
     },
     "metadata": {},
     "output_type": "display_data"
    }
   ],
   "source": [
    "plot_2d_vecs(np.stack([A@x, x]).T, title='Ax - red, x - green', colors=['r','g'], scale_=40)"
   ]
  },
  {
   "cell_type": "code",
   "execution_count": 45,
   "id": "4bca0761-3136-4890-86af-b905ff402190",
   "metadata": {},
   "outputs": [
    {
     "data": {
      "text/plain": [
       "(array([ 4.62933846, -2.71693982]),\n",
       " array([[ 0.67342783, -0.57368555],\n",
       "        [ 0.73925297,  0.81907563]]))"
      ]
     },
     "execution_count": 45,
     "metadata": {},
     "output_type": "execute_result"
    }
   ],
   "source": [
    "from numpy import linalg\n",
    "w, v = linalg.eig(A)\n",
    "w, v "
   ]
  },
  {
   "cell_type": "code",
   "execution_count": 46,
   "id": "a856f77e-c317-407e-a154-e634f5147c79",
   "metadata": {},
   "outputs": [
    {
     "data": {
      "text/plain": [
       "array([0.67342783, 0.73925297])"
      ]
     },
     "execution_count": 46,
     "metadata": {},
     "output_type": "execute_result"
    }
   ],
   "source": [
    "v[:,0]"
   ]
  },
  {
   "cell_type": "code",
   "execution_count": 47,
   "id": "b44f5c71-040d-4aaf-88bf-8d5cdfde3075",
   "metadata": {},
   "outputs": [
    {
     "data": {
      "text/plain": [
       "array([3.11752535, 3.42225223])"
      ]
     },
     "execution_count": 47,
     "metadata": {},
     "output_type": "execute_result"
    }
   ],
   "source": [
    "A@v[:,0]"
   ]
  },
  {
   "cell_type": "code",
   "execution_count": 48,
   "id": "c22aaec8-11f6-4988-805e-b8fd88ef32aa",
   "metadata": {},
   "outputs": [
    {
     "data": {
      "image/png": "[encoded data removed]",
      "text/plain": [
       "<Figure size 640x480 with 1 Axes>"
      ]
     },
     "metadata": {},
     "output_type": "display_data"
    }
   ],
   "source": [
    "# As we can see the Av only scales the eigenvector v, but doesn't rotate\n",
    "plot_2d_vecs(np.stack([A@(v[:,0]), v[:,0]]).T, title='Ax - red, v - green', colors=['r','g'], scale_=5)"
   ]
  },
  {
   "cell_type": "code",
   "execution_count": 49,
   "id": "954c0e54-2df1-48cb-b5a9-aac0336d54ac",
   "metadata": {},
   "outputs": [
    {
     "data": {
      "image/png": "[encoded data removed]",
      "text/plain": [
       "<Figure size 640x480 with 1 Axes>"
      ]
     },
     "metadata": {},
     "output_type": "display_data"
    }
   ],
   "source": [
    "# As we can see the Av only scales the eigenvector v, but doesn't rotate\n",
    "plot_2d_vecs(np.stack([A@(v[:,1]), v[:,1]]).T, title='Ax - red, v - green', colors=['r','g'], scale_=5)"
   ]
  },
  {
   "cell_type": "code",
   "execution_count": 50,
   "id": "070dd13d-2587-4bb3-bdca-f7ef23cb519c",
   "metadata": {},
   "outputs": [
    {
     "data": {
      "text/plain": [
       "array([[1.43615542, 2.90885312],\n",
       "       [4.55904535, 0.47624322]])"
      ]
     },
     "execution_count": 50,
     "metadata": {},
     "output_type": "execute_result"
    }
   ],
   "source": [
    "eigvals, eigvecs = linalg.eig(A)\n",
    "lambda_mat = np.diag(eigvals)\n",
    "eigvecs @ lambda_mat @ np.linalg.inv(eigvecs)"
   ]
  },
  {
   "cell_type": "code",
   "execution_count": 51,
   "id": "dfb74e54-ccec-4bec-b87f-04ab26a083a8",
   "metadata": {},
   "outputs": [
    {
     "data": {
      "text/plain": [
       "array([[1.43615542, 2.90885312],\n",
       "       [4.55904535, 0.47624322]])"
      ]
     },
     "execution_count": 51,
     "metadata": {},
     "output_type": "execute_result"
    }
   ],
   "source": [
    "A"
   ]
  },
  {
   "cell_type": "markdown",
   "id": "18b6f686-e31a-4e01-a986-ee9f731991d6",
   "metadata": {},
   "source": [
    "Ax = lx                                                                                                                   \n",
    "(A - lI)x = 0                                                                                                            \n",
    "det(A - lI) = 0"
   ]
  },
  {
   "cell_type": "code",
   "execution_count": 56,
   "id": "361b6f8a-5de4-4824-ae5f-c01af9bc0077",
   "metadata": {},
   "outputs": [],
   "source": [
    "import sympy \n",
    "from sympy import *\n",
    "\n",
    "def find_eigenvals(mat):\n",
    "    assert mat.shape[0] == mat.shape[1]\n",
    "\n",
    "    l = sympy.symbols('lamda')\n",
    "\n",
    "    M = np.copy(mat) - sympy.diag(*([l]*mat.shape[0]))\n",
    "    det_polynom = M.det()\n",
    "    \n",
    "    eigenvals = solve(det_polynom)\n",
    "    \n",
    "    if (mat == mat.T).all() or np.array([np.abs(im(e)) for e in eigenvals]).sum()/len(eigvals) < 0.1:\n",
    "        return np.array([re(e) for e in eigenvals])\n",
    "    return eigenvals"
   ]
  },
  {
   "cell_type": "code",
   "execution_count": 64,
   "id": "06939c90-562e-44c8-a51a-6c9a7807c0a4",
   "metadata": {},
   "outputs": [
    {
     "data": {
      "text/plain": [
       "array([-2.71693982378023, 4.62933846121698], dtype=object)"
      ]
     },
     "execution_count": 64,
     "metadata": {},
     "output_type": "execute_result"
    }
   ],
   "source": [
    "eigenvals = find_eigenvals(A)\n",
    "eigenvals"
   ]
  },
  {
   "cell_type": "code",
   "execution_count": 65,
   "id": "ab4c05bc-0b62-477e-8313-cd713aa8216d",
   "metadata": {},
   "outputs": [
    {
     "data": {
      "text/plain": [
       "array([ 4.62933846, -2.71693982])"
      ]
     },
     "execution_count": 65,
     "metadata": {},
     "output_type": "execute_result"
    }
   ],
   "source": [
    "np.linalg.eigvals(A)"
   ]
  },
  {
   "cell_type": "code",
   "execution_count": 66,
   "id": "6f75cd89-3581-49ca-8d80-75cc55a959ea",
   "metadata": {},
   "outputs": [],
   "source": [
    "S = np.array([[2,1],[1,2]])"
   ]
  },
  {
   "cell_type": "code",
   "execution_count": 67,
   "id": "655402d5-e905-4253-adaa-bf219e1c5876",
   "metadata": {},
   "outputs": [],
   "source": [
    "eig_vals_S = find_eigenvals(S)"
   ]
  },
  {
   "cell_type": "code",
   "execution_count": 68,
   "id": "a00963f6-f14b-4ccc-91cf-e663a74ba824",
   "metadata": {},
   "outputs": [
    {
     "data": {
      "text/plain": [
       "array([1, 3], dtype=object)"
      ]
     },
     "execution_count": 68,
     "metadata": {},
     "output_type": "execute_result"
    }
   ],
   "source": [
    "eig_vals_S"
   ]
  },
  {
   "cell_type": "code",
   "execution_count": 69,
   "id": "966802fd-ef7a-48b1-9e38-e44b07e257f9",
   "metadata": {},
   "outputs": [
    {
     "data": {
      "text/plain": [
       "array([3., 1.])"
      ]
     },
     "execution_count": 69,
     "metadata": {},
     "output_type": "execute_result"
    }
   ],
   "source": [
    "np.linalg.eigvals(S)"
   ]
  },
  {
   "cell_type": "code",
   "execution_count": 72,
   "id": "65cb2b94-4cec-434e-a5d4-2b4749abf684",
   "metadata": {},
   "outputs": [],
   "source": [
    "# Two checks: \n",
    "# 1. sum of eigvals must be equal to the trace\n",
    "# 2. product of eigvals must be equal to the determinant\n",
    "\n",
    "def check_eigvals(mat, eigvals):\n",
    "    valid = True\n",
    "    if np.trace(mat) == np.sum(eigvals):\n",
    "        print('First check passed: The sum of eigvals is equal to the trace of the matrix.', np.trace(mat))\n",
    "    else:\n",
    "        valid = False\n",
    "        print('First check didn\\'t pass: The sum of eigvals is not equal to the trace of the matrix.', np.trace(mat), np.sum(eig_vals_S))\n",
    "    if np.abs(np.linalg.det(mat) - np.prod(eigvals)) < 0.01:\n",
    "        print('Second check passed: The product of eigvals is equal to the determinant of the matrix.', np.prod(eig_vals_S))\n",
    "    else:\n",
    "        valid = False\n",
    "        print('Second check didn\\'t pass: The product of eigvals is not equal to the determinant of the matrix.', np.prod(eig_vals_S), np.linalg.det(mat))\n",
    "    if valid:\n",
    "        print('Eigenvalues computed correctly')\n",
    "    else:\n",
    "        print('Wrong eigenvalues')"
   ]
  },
  {
   "cell_type": "code",
   "execution_count": 73,
   "id": "b00ffd98-8103-49e7-b30b-1ff862a60cf3",
   "metadata": {},
   "outputs": [
    {
     "name": "stdout",
     "output_type": "stream",
     "text": [
      "First check passed: The sum of eigvals is equal to the trace of the matrix. 4\n",
      "Second check passed: The product of eigvals is equal to the determinant of the matrix. 3\n",
      "Eigenvalues computed correctly\n"
     ]
    }
   ],
   "source": [
    "check_eigvals(S, eig_vals_S)"
   ]
  },
  {
   "cell_type": "code",
   "execution_count": 74,
   "id": "c95ba6d4-822f-4ffa-8ca1-5721c9478405",
   "metadata": {},
   "outputs": [
    {
     "data": {
      "text/plain": [
       "array([[ 0, -1],\n",
       "       [ 1,  0]])"
      ]
     },
     "execution_count": 74,
     "metadata": {},
     "output_type": "execute_result"
    }
   ],
   "source": [
    "# an example where the eigvals are complex numbers\n",
    "Q = np.array([[0,-1],[1,0]])\n",
    "Q"
   ]
  },
  {
   "cell_type": "code",
   "execution_count": 75,
   "id": "05704be3-733d-42f6-b85c-118383d7b75d",
   "metadata": {},
   "outputs": [
    {
     "data": {
      "text/plain": [
       "[-I, I]"
      ]
     },
     "execution_count": 75,
     "metadata": {},
     "output_type": "execute_result"
    }
   ],
   "source": [
    "find_eigenvals(Q)"
   ]
  },
  {
   "cell_type": "code",
   "execution_count": 76,
   "id": "7fdc53a4-db54-440f-ab87-d3571bcc17b2",
   "metadata": {},
   "outputs": [
    {
     "name": "stdout",
     "output_type": "stream",
     "text": [
      "First check passed: The sum of eigvals is equal to the trace of the matrix. 0\n",
      "Second check passed: The product of eigvals is equal to the determinant of the matrix. 3\n",
      "Eigenvalues computed correctly\n"
     ]
    }
   ],
   "source": [
    "check_eigvals(Q, find_eigenvals(Q))"
   ]
  },
  {
   "cell_type": "code",
   "execution_count": 78,
   "id": "151378cc-d12d-49b2-8edf-cb7dd324ea93",
   "metadata": {},
   "outputs": [
    {
     "data": {
      "text/plain": [
       "(array([3., 1.]),\n",
       " array([[ 0.70710678, -0.70710678],\n",
       "        [ 0.70710678,  0.70710678]]))"
      ]
     },
     "execution_count": 78,
     "metadata": {},
     "output_type": "execute_result"
    }
   ],
   "source": [
    "eig_vals_S, V_S = np.linalg.eig(S)\n",
    "eig_vals_S, V_S"
   ]
  },
  {
   "cell_type": "code",
   "execution_count": 79,
   "id": "81db72a2-aa46-4021-986c-bcd40fb48f5c",
   "metadata": {},
   "outputs": [
    {
     "data": {
      "text/plain": [
       "array([[1., 0.],\n",
       "       [0., 1.]])"
      ]
     },
     "execution_count": 79,
     "metadata": {},
     "output_type": "execute_result"
    }
   ],
   "source": [
    "# identity\n",
    "V_S@V_S.T"
   ]
  },
  {
   "cell_type": "code",
   "execution_count": 80,
   "id": "523f8c44-f5d2-4ca7-9d15-8dc2d32ab46d",
   "metadata": {},
   "outputs": [
    {
     "data": {
      "text/plain": [
       "(array([ 4.62933846, -2.71693982]),\n",
       " array([[ 0.67342783, -0.57368555],\n",
       "        [ 0.73925297,  0.81907563]]))"
      ]
     },
     "execution_count": 80,
     "metadata": {},
     "output_type": "execute_result"
    }
   ],
   "source": [
    "eig_vals_A, V_A = np.linalg.eig(A)\n",
    "eig_vals_A, V_A"
   ]
  },
  {
   "cell_type": "code",
   "execution_count": 81,
   "id": "955d4027-ce65-43bd-ad3d-d94e060874d6",
   "metadata": {},
   "outputs": [
    {
     "data": {
      "text/plain": [
       "array([[1.43615542, 2.90885312],\n",
       "       [4.55904535, 0.47624322]])"
      ]
     },
     "execution_count": 81,
     "metadata": {},
     "output_type": "execute_result"
    }
   ],
   "source": [
    "A"
   ]
  },
  {
   "cell_type": "code",
   "execution_count": 82,
   "id": "bf6131dd-14be-425e-aa5e-73e13aed4455",
   "metadata": {},
   "outputs": [
    {
     "data": {
      "text/plain": [
       "array([[0.78262015, 0.02794167],\n",
       "       [0.02794167, 1.21737985]])"
      ]
     },
     "execution_count": 82,
     "metadata": {},
     "output_type": "execute_result"
    }
   ],
   "source": [
    "# not orthonormal columns in V_A\n",
    "V_A@V_A.T"
   ]
  },
  {
   "cell_type": "code",
   "execution_count": 86,
   "id": "ba251e79-37e9-4624-8f18-36c42338f75c",
   "metadata": {},
   "outputs": [
    {
     "data": {
      "text/plain": [
       "(array([0.+1.j, 0.-1.j]),\n",
       " array([[0.70710678+0.j        , 0.70710678-0.j        ],\n",
       "        [0.        -0.70710678j, 0.        +0.70710678j]]))"
      ]
     },
     "execution_count": 86,
     "metadata": {},
     "output_type": "execute_result"
    }
   ],
   "source": [
    "eig_vals_Q, V_Q = np.linalg.eig(Q)\n",
    "eig_vals_Q, V_Q"
   ]
  },
  {
   "cell_type": "code",
   "execution_count": 87,
   "id": "9665110f-8ab8-4d8b-b0b2-4d47313f446b",
   "metadata": {},
   "outputs": [
    {
     "data": {
      "text/plain": [
       "array([[ 1.+0.00000000e+00j,  0.+2.23711432e-17j],\n",
       "       [ 0.+2.23711432e-17j, -1.+0.00000000e+00j]])"
      ]
     },
     "execution_count": 87,
     "metadata": {},
     "output_type": "execute_result"
    }
   ],
   "source": [
    "V_Q@V_Q.T"
   ]
  },
  {
   "cell_type": "code",
   "execution_count": 88,
   "id": "8d8c29c8-b007-452f-97f0-0352883a3a60",
   "metadata": {},
   "outputs": [],
   "source": [
    "# Similar Matrices have the same eigvals\n",
    "\n",
    "A = (np.random.rand(3, 3)*5).round()\n",
    "B = (np.random.rand(3, 3)*5).round()\n",
    "\n",
    "sim_to_A = B@A@linalg.inv(B)"
   ]
  },
  {
   "cell_type": "code",
   "execution_count": 89,
   "id": "0e2947c3-2e1a-489e-9c47-08b989b4d531",
   "metadata": {},
   "outputs": [
    {
     "data": {
      "text/plain": [
       "array([[3., 4., 5.],\n",
       "       [5., 3., 4.],\n",
       "       [3., 2., 1.]])"
      ]
     },
     "execution_count": 89,
     "metadata": {},
     "output_type": "execute_result"
    }
   ],
   "source": [
    "A"
   ]
  },
  {
   "cell_type": "code",
   "execution_count": 90,
   "id": "b3f5d7b4-f421-46e3-82ba-63695226c1ad",
   "metadata": {},
   "outputs": [
    {
     "data": {
      "text/plain": [
       "array([[3.        , 2.23076923, 4.84615385],\n",
       "       [7.        , 3.23076923, 8.84615385],\n",
       "       [4.        , 0.84615385, 0.76923077]])"
      ]
     },
     "execution_count": 90,
     "metadata": {},
     "output_type": "execute_result"
    }
   ],
   "source": [
    "sim_to_A"
   ]
  },
  {
   "cell_type": "code",
   "execution_count": 91,
   "id": "f46a9b5c-e305-4aed-9c2e-05647d63a5e3",
   "metadata": {},
   "outputs": [
    {
     "data": {
      "text/plain": [
       "array([-2.14396495044853, -0.840843347935600, 9.98480829838413],\n",
       "      dtype=object)"
      ]
     },
     "execution_count": 91,
     "metadata": {},
     "output_type": "execute_result"
    }
   ],
   "source": [
    "find_eigenvals(A)"
   ]
  },
  {
   "cell_type": "code",
   "execution_count": 92,
   "id": "5407381b-e326-4337-94f6-cb44c20e4073",
   "metadata": {},
   "outputs": [
    {
     "data": {
      "text/plain": [
       "array([-2.14396495044853, -0.840843347935600, 9.98480829838413],\n",
       "      dtype=object)"
      ]
     },
     "execution_count": 92,
     "metadata": {},
     "output_type": "execute_result"
    }
   ],
   "source": [
    "find_eigenvals(sim_to_A)"
   ]
  },
  {
   "cell_type": "code",
   "execution_count": 93,
   "id": "968c1dd5-96a4-44ad-b61e-3f2cec673d72",
   "metadata": {},
   "outputs": [
    {
     "data": {
      "text/plain": [
       "(array([-2.81518549760034, -1.04088063465107, 79.8560661322514],\n",
       "       dtype=object),\n",
       " array([-2.81518549760034, -1.04088063465107, 79.8560661322514],\n",
       "       dtype=object))"
      ]
     },
     "execution_count": 93,
     "metadata": {},
     "output_type": "execute_result"
    }
   ],
   "source": [
    "# A@B  and B@A have the same nonzero eigvalues\n",
    "find_eigenvals(A@B), find_eigenvals(B@A)"
   ]
  },
  {
   "cell_type": "code",
   "execution_count": null,
   "id": "39f99003-0e57-4c94-b05c-5d21536970f6",
   "metadata": {},
   "outputs": [],
   "source": []
  }
 ],
 "metadata": {
  "kernelspec": {
   "display_name": "Python 3 (ipykernel)",
   "language": "python",
   "name": "python3"
  },
  "language_info": {
   "codemirror_mode": {
    "name": "ipython",
    "version": 3
   },
   "file_extension": ".py",
   "mimetype": "text/x-python",
   "name": "python",
   "nbconvert_exporter": "python",
   "pygments_lexer": "ipython3",
   "version": "3.11.9"
  }
 },
 "nbformat": 4,
 "nbformat_minor": 5
}
