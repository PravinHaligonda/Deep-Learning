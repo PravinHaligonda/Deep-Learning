{
 "cells": [
  {
   "cell_type": "code",
   "id": "initial_id",
   "metadata": {
    "collapsed": true,
    "ExecuteTime": {
     "end_time": "2024-11-20T14:05:46.388047Z",
     "start_time": "2024-11-20T14:05:37.852018Z"
    }
   },
   "source": [
    "import torch\n",
    "import sklearn\n",
    "import matplotlib.pyplot as plt\n",
    "import sympy\n",
    "import scipy"
   ],
   "outputs": [],
   "execution_count": 3
  },
  {
   "metadata": {},
   "cell_type": "markdown",
   "source": [
    "### Norms\n",
    "using Norm we can measure the size of a vector"
   ],
   "id": "acf0a8078c723180"
  },
  {
   "metadata": {},
   "cell_type": "markdown",
   "source": [
    "#### L1 Norm\n",
    "Sum of absolute values of the vector elements"
   ],
   "id": "f5ce0564431e58e6"
  },
  {
   "metadata": {
    "ExecuteTime": {
     "end_time": "2024-11-20T14:58:45.353834Z",
     "start_time": "2024-11-20T14:58:45.342319Z"
    }
   },
   "cell_type": "code",
   "source": [
    "# simple, using torch\n",
    "torch.norm(torch.arange(1, 5, dtype=torch.float32), p=1)"
   ],
   "id": "c6220a02f745d084",
   "outputs": [
    {
     "data": {
      "text/plain": [
       "tensor(10.)"
      ]
     },
     "execution_count": 18,
     "metadata": {},
     "output_type": "execute_result"
    }
   ],
   "execution_count": 18
  },
  {
   "metadata": {
    "ExecuteTime": {
     "end_time": "2024-11-20T15:07:57.988904Z",
     "start_time": "2024-11-20T15:07:57.980560Z"
    }
   },
   "cell_type": "code",
   "source": [
    "def l_1_norm(vec):\n",
    "    return torch.sum(torch.absolute(vec))"
   ],
   "id": "e0a2e995b32cf225",
   "outputs": [],
   "execution_count": 19
  },
  {
   "metadata": {
    "ExecuteTime": {
     "end_time": "2024-11-20T15:08:42.624569Z",
     "start_time": "2024-11-20T15:08:42.603182Z"
    }
   },
   "cell_type": "code",
   "source": "l_1_norm(torch.arange(1, 5))",
   "id": "552bdca63770a94b",
   "outputs": [
    {
     "data": {
      "text/plain": [
       "tensor(10)"
      ]
     },
     "execution_count": 20,
     "metadata": {},
     "output_type": "execute_result"
    }
   ],
   "execution_count": 20
  },
  {
   "metadata": {},
   "cell_type": "markdown",
   "source": [
    "#### L2 Norm\n",
    "L2 norm, with p = 2, is known as the Euclidean norm"
   ],
   "id": "e5997a67a7085c39"
  },
  {
   "metadata": {
    "ExecuteTime": {
     "end_time": "2024-11-20T15:12:57.324916Z",
     "start_time": "2024-11-20T15:12:57.315393Z"
    }
   },
   "cell_type": "code",
   "source": [
    "def l_p_norm(vec, p=2):\n",
    "    return torch.pow(torch.pow(vec, p).sum(), 1/p)"
   ],
   "id": "dde314067e54abe1",
   "outputs": [],
   "execution_count": 21
  },
  {
   "metadata": {
    "ExecuteTime": {
     "end_time": "2024-11-20T15:13:00.104199Z",
     "start_time": "2024-11-20T15:13:00.092740Z"
    }
   },
   "cell_type": "code",
   "source": [
    "vec = torch.tensor([1, 2, 3, 4])\n",
    "l_p_norm(vec)"
   ],
   "id": "dbf1bf5248d84133",
   "outputs": [
    {
     "data": {
      "text/plain": [
       "tensor(5.4772)"
      ]
     },
     "execution_count": 22,
     "metadata": {},
     "output_type": "execute_result"
    }
   ],
   "execution_count": 22
  },
  {
   "metadata": {
    "ExecuteTime": {
     "end_time": "2024-11-20T15:13:04.447150Z",
     "start_time": "2024-11-20T15:13:04.432371Z"
    }
   },
   "cell_type": "code",
   "source": "torch.norm(vec.float(), p=2)",
   "id": "df7fccb2ad69bd9d",
   "outputs": [
    {
     "data": {
      "text/plain": [
       "tensor(5.4772)"
      ]
     },
     "execution_count": 23,
     "metadata": {},
     "output_type": "execute_result"
    }
   ],
   "execution_count": 23
  },
  {
   "metadata": {},
   "cell_type": "markdown",
   "source": [
    "#### Max Norm\n",
    "absolute value of the element with the largest magnitude in the vector"
   ],
   "id": "ae97c5964c9f3f4d"
  },
  {
   "metadata": {
    "ExecuteTime": {
     "end_time": "2024-11-20T15:20:38.256686Z",
     "start_time": "2024-11-20T15:20:38.250344Z"
    }
   },
   "cell_type": "code",
   "source": [
    "def max_norm(vec):\n",
    "    return torch.max(torch.absolute(vec))"
   ],
   "id": "417eb84b08f060d1",
   "outputs": [],
   "execution_count": 26
  },
  {
   "metadata": {
    "ExecuteTime": {
     "end_time": "2024-11-20T15:20:40.737947Z",
     "start_time": "2024-11-20T15:20:40.725583Z"
    }
   },
   "cell_type": "code",
   "source": "max_norm(torch.tensor([1, 2, 3, -4]))",
   "id": "5b7247a8d6b08d4f",
   "outputs": [
    {
     "data": {
      "text/plain": [
       "tensor(4)"
      ]
     },
     "execution_count": 27,
     "metadata": {},
     "output_type": "execute_result"
    }
   ],
   "execution_count": 27
  },
  {
   "metadata": {
    "ExecuteTime": {
     "end_time": "2024-11-20T15:23:28.498907Z",
     "start_time": "2024-11-20T15:23:28.491056Z"
    }
   },
   "cell_type": "code",
   "source": [
    "def frobenius_norm(mat):\n",
    "    return l_p_norm(mat, p=2)"
   ],
   "id": "f8f56862c984b4cf",
   "outputs": [],
   "execution_count": 28
  },
  {
   "metadata": {
    "ExecuteTime": {
     "end_time": "2024-11-20T15:24:44.071551Z",
     "start_time": "2024-11-20T15:24:44.065636Z"
    }
   },
   "cell_type": "code",
   "source": "c = torch.arange(1, 7).view(2, 3)",
   "id": "7bcb684d5a9b6607",
   "outputs": [],
   "execution_count": 31
  },
  {
   "metadata": {
    "ExecuteTime": {
     "end_time": "2024-11-20T15:25:08.045250Z",
     "start_time": "2024-11-20T15:25:08.033060Z"
    }
   },
   "cell_type": "code",
   "source": "frobenius_norm(c)",
   "id": "6e2d77720f2a095b",
   "outputs": [
    {
     "data": {
      "text/plain": [
       "tensor(9.5394)"
      ]
     },
     "execution_count": 32,
     "metadata": {},
     "output_type": "execute_result"
    }
   ],
   "execution_count": 32
  },
  {
   "metadata": {
    "ExecuteTime": {
     "end_time": "2024-11-20T15:26:04.118302Z",
     "start_time": "2024-11-20T15:26:04.103947Z"
    }
   },
   "cell_type": "code",
   "source": "torch.norm(c.float(), p='fro')",
   "id": "3b1a3a7f0efbc055",
   "outputs": [
    {
     "data": {
      "text/plain": [
       "tensor(9.5394)"
      ]
     },
     "execution_count": 34,
     "metadata": {},
     "output_type": "execute_result"
    }
   ],
   "execution_count": 34
  },
  {
   "metadata": {},
   "cell_type": "code",
   "outputs": [],
   "execution_count": null,
   "source": "",
   "id": "530c841295165987"
  }
 ],
 "metadata": {
  "kernelspec": {
   "display_name": "Python 3",
   "language": "python",
   "name": "python3"
  },
  "language_info": {
   "codemirror_mode": {
    "name": "ipython",
    "version": 2
   },
   "file_extension": ".py",
   "mimetype": "text/x-python",
   "name": "python",
   "nbconvert_exporter": "python",
   "pygments_lexer": "ipython2",
   "version": "2.7.6"
  }
 },
 "nbformat": 4,
 "nbformat_minor": 5
}
